{
 "cells": [
  {
   "cell_type": "code",
   "execution_count": null,
   "id": "af7cc9fd",
   "metadata": {},
   "outputs": [],
   "source": [
    "import gc\n",
    "import pandas as pd\n",
    "import numpy as np\n",
    "from collections import Counter"
   ]
  },
  {
   "cell_type": "code",
   "execution_count": null,
   "id": "31d8751b",
   "metadata": {},
   "outputs": [],
   "source": [
    "def compute_paip(items: list) -> int:\n",
    "    # Среднее значение по встречаемости среди предметов одного пользователя\n",
    "    # paip = personal average item popularity\n",
    "    hits = sum(item_hits for _, item_hits in items)\n",
    "    return hits / len(items)\n",
    "\n",
    "\n",
    "def sort_personal_item_connections(a: dict):\n",
    "    rec_dict = {}\n",
    "    for key, value in a.items():\n",
    "        rec_dict[key] = []\n",
    "        for item, hits in value:\n",
    "            if item not in rec_dict:\n",
    "                rec_dict[key].append(item)\n",
    "    return rec_dict\n",
    "\n",
    "\n",
    "def get_personal_item_connections(df_) -> [list, list]:\n",
    "    # Поделить предпочтения пользователя используя paip.\n",
    "    # Если встречаемость предмета > paip, то считается что это личное предпочтение пользователя\n",
    "    # Если нет то предметы которые он брал раньше вместе, но не более paip раз\n",
    "    best_items, other_items = {}, {}\n",
    "\n",
    "    for user_purchases in df_.iteritems():\n",
    "        user, items = user_purchases\n",
    "        average = compute_paip(items)\n",
    "        best_items[user], other_items[user] = [], []\n",
    "\n",
    "        for item, item_popularity in items:\n",
    "            if item_popularity > average:\n",
    "                best_items[user].append((item, item_popularity))\n",
    "            else:\n",
    "                other_items[user].append((item, item_popularity))\n",
    "    return sort_personal_item_connections(best_items), sort_personal_item_connections(other_items)\n",
    "\n",
    "\n",
    "def get_general_item_connections(basket: list, all_ic: dict) -> list:\n",
    "    # глобальная (по всем пользователям) совстречаемость предметов\n",
    "    general_ic = []\n",
    "    for item in basket:\n",
    "        if item_connection:= all_ic.get(item, None):\n",
    "            general_ic += item_connection\n",
    "    return sorted(general_ic, key=lambda x: x[1], reverse=True)\n",
    "\n",
    "\n",
    "def get_personal_item_connections_by_popularity(personal_connections: list, popularity: dict) -> list:\n",
    "    # отсортировать предпочтения пользователя по глобальной популярности предмета \n",
    "    general_ic = []\n",
    "    for item in personal_connections:\n",
    "        if item_connection:= popularity.get(item, None):\n",
    "            general_ic += [(item, item_connection)]\n",
    "    return sorted(general_ic, key=lambda x: x[1], reverse=True)\n",
    "\n",
    "def merge_item_recommendations(recs):\n",
    "    rec_dict = {}\n",
    "    counter = 0\n",
    "    for item, hits in recs:\n",
    "        if item not in rec_dict:\n",
    "            rec_dict[item] = hits\n",
    "            counter += 1\n",
    "    return list(rec_dict.keys())"
   ]
  },
  {
   "cell_type": "code",
   "execution_count": null,
   "id": "043d86c7",
   "metadata": {},
   "outputs": [],
   "source": [
    "hist_data = pd.read_csv('hist_data.csv').dropna()\n",
    "test = pd.read_csv('test.csv')"
   ]
  },
  {
   "cell_type": "code",
   "execution_count": null,
   "id": "204bbdcb",
   "metadata": {},
   "outputs": [],
   "source": [
    "# Получаем связанные вместе предпочтения пользователя\n",
    "df = hist_data[['item_id', 'pav_order_id', \"buyer_id\"]]\n",
    "df_personal = df.groupby([\"buyer_id\"])[\"item_id\"].agg(lambda x: Counter(x).most_common())\n",
    "\n",
    "a, b = get_personal_item_connections(df_personal)\n",
    "best_df = pd.DataFrame({\"buyer_id\": a.keys(), \"personal_ic\": a.values()})\n",
    "other_df = pd.DataFrame({\"buyer_id\": b.keys(), \"other_perconal_ic\": b.values()})\n",
    "\n",
    "del a, b\n",
    "gc.collect()"
   ]
  },
  {
   "cell_type": "code",
   "execution_count": null,
   "id": "95664188",
   "metadata": {},
   "outputs": [],
   "source": [
    "# Создание словаря с самыми популярными совстречаемостями\n",
    "df = (\n",
    "    hist_data[['item_id', 'pav_order_id']]\n",
    "    .sort_values(['item_id', 'pav_order_id'])\n",
    "    .merge(hist_data[['item_id', 'pav_order_id']], how='left', on=['pav_order_id'], suffixes=('', '_left'))\n",
    ")\n",
    "df_general = df[df['item_id'] != df['item_id_left']].copy()\n",
    "df_general1 = df_general.groupby(['item_id'])['item_id_left'].agg(lambda x: Counter(x).most_common(3))\n",
    "\n",
    "all_gic = {k: v for (k, v) in df_general1.iteritems()}\n",
    "\n",
    "del df_general1, df_general\n",
    "gc.collect()"
   ]
  },
  {
   "cell_type": "code",
   "execution_count": null,
   "id": "e3a474b2",
   "metadata": {},
   "outputs": [],
   "source": [
    "# создание столбца с совстречаемостью предметов по корзине\n",
    "test_df = test.groupby(['pav_order_id', 'buyer_id'])['item_id'].agg([('basket', list)])\n",
    "tmp = test_df['basket'].map(lambda x: merge_item_recommendations(get_general_item_connections(x, all_gic))).reset_index()\n",
    "tmp = tmp.rename(columns={'basket': \"item_by_item\"})"
   ]
  },
  {
   "cell_type": "code",
   "execution_count": null,
   "id": "c80da1c8",
   "metadata": {},
   "outputs": [],
   "source": [
    "# Топ 20 самых популярных предметов среди покупок всех пользователей\n",
    "items_popularity = df['item_id'].value_counts().reset_index()\n",
    "items_popularity = items_popularity.rename(columns={\"item_id\": \"count\", \"index\":\"item_id\"})\n",
    "items_popularity = zip(items_popularity[\"item_id\"], items_popularity[\"count\"])\n",
    "items_popularity = {key: value for (key, value) in items_popularity}\n",
    "tmp1 = other_df['other_perconal_ic'].map(lambda x: merge_item_recommendations(get_personal_item_connections_by_popularity(x, items_popularity)))\n",
    "b = list(items_popularity.keys())[:20]"
   ]
  },
  {
   "cell_type": "code",
   "execution_count": null,
   "id": "ccd6fe06",
   "metadata": {},
   "outputs": [],
   "source": [
    "# объединение всех данных в один DataFrame\n",
    "a = test_df.reset_index()\n",
    "a = pd.merge(a, best_df, how=\"left\", on=['buyer_id'])\n",
    "a['personal_ic'] = a['personal_ic'].fillna(\"\").apply(list)\n",
    "a = pd.merge(a, tmp, how=\"left\", on=['buyer_id', 'pav_order_id'])\n",
    "a['other_perconal_ic'] = tmp1\n",
    "a['other_perconal_ic'] = a['other_perconal_ic'].fillna(\"\").apply(list)\n",
    "a[\"most_popular\"] = [b for i in a.index]\n",
    "a['preds'] = np.nan\n",
    "a['preds'] = a['preds'].fillna(\"\").apply(list)"
   ]
  },
  {
   "cell_type": "code",
   "execution_count": null,
   "id": "0b6d5899",
   "metadata": {},
   "outputs": [],
   "source": [
    "for row in a.itertuples():\n",
    "    # Сбор всех рекомендаций. Позиция имеет приоритет, \n",
    "    # т.е личное предпочтение связки предметов > совстречаемость по корзине > топ 20 популярных\n",
    "    # из этого списка берутся первые 20 значение (они имеют наибольший шанс, т.к отсортированы в определенном порядке)\n",
    "    recommendations = row.personal_ic + row.item_by_item + row.most_popular\n",
    "    a.at[row.Index, 'preds'] = sorted(set(recommendations), key=recommendations.index)[:20]\n",
    "# вывод результата\n",
    "a[['pav_order_id', 'preds']].to_csv('prediction.csv', index=False)"
   ]
  }
 ],
 "metadata": {
  "kernelspec": {
   "display_name": "Python 3 (ipykernel)",
   "language": "python",
   "name": "python3"
  },
  "language_info": {
   "codemirror_mode": {
    "name": "ipython",
    "version": 3
   },
   "file_extension": ".py",
   "mimetype": "text/x-python",
   "name": "python",
   "nbconvert_exporter": "python",
   "pygments_lexer": "ipython3",
   "version": "3.8.0"
  }
 },
 "nbformat": 4,
 "nbformat_minor": 5
}
